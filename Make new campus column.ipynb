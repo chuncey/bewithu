{
 "cells": [
  {
   "cell_type": "code",
   "execution_count": 1,
   "metadata": {
    "collapsed": true
   },
   "outputs": [],
   "source": [
    "import pandas as pd"
   ]
  },
  {
   "cell_type": "code",
   "execution_count": 2,
   "metadata": {
    "collapsed": true
   },
   "outputs": [],
   "source": [
    "import seaborn as sb"
   ]
  },
  {
   "cell_type": "code",
   "execution_count": 3,
   "metadata": {
    "collapsed": true
   },
   "outputs": [],
   "source": [
    "import numpy as np"
   ]
  },
  {
   "cell_type": "code",
   "execution_count": 4,
   "metadata": {
    "collapsed": true
   },
   "outputs": [],
   "source": [
    "df = pd.read_csv(\"Crashes_Last_Five_Years.csv\")"
   ]
  },
  {
   "cell_type": "code",
   "execution_count": 5,
   "metadata": {
    "collapsed": false
   },
   "outputs": [
    {
     "data": {
      "text/html": [
       "<div>\n",
       "<table border=\"1\" class=\"dataframe\">\n",
       "  <thead>\n",
       "    <tr style=\"text-align: right;\">\n",
       "      <th></th>\n",
       "      <th>X</th>\n",
       "      <th>Y</th>\n",
       "      <th>OBJECTID</th>\n",
       "      <th>ACCIDENT_NO</th>\n",
       "      <th>ABS_CODE</th>\n",
       "      <th>ACCIDENT_STATUS</th>\n",
       "      <th>ACCIDENT_DATE</th>\n",
       "      <th>ACCIDENT_TIME</th>\n",
       "      <th>ALCOHOLTIME</th>\n",
       "      <th>ACCIDENT_TYPE</th>\n",
       "      <th>...</th>\n",
       "      <th>DEG_URBAN_ALL</th>\n",
       "      <th>LGA_NAME_ALL</th>\n",
       "      <th>REGION_NAME_ALL</th>\n",
       "      <th>SRNS</th>\n",
       "      <th>SRNS_ALL</th>\n",
       "      <th>RMA</th>\n",
       "      <th>RMA_ALL</th>\n",
       "      <th>DIVIDED</th>\n",
       "      <th>DIVIDED_ALL</th>\n",
       "      <th>STAT_DIV_NAME</th>\n",
       "    </tr>\n",
       "  </thead>\n",
       "  <tbody>\n",
       "    <tr>\n",
       "      <th>0</th>\n",
       "      <td>145.060690</td>\n",
       "      <td>-37.810373</td>\n",
       "      <td>2693452</td>\n",
       "      <td>T20120013207</td>\n",
       "      <td>ABS to receive accident</td>\n",
       "      <td>Finished</td>\n",
       "      <td>26/5/2012</td>\n",
       "      <td>11.40.00</td>\n",
       "      <td>No</td>\n",
       "      <td>Collision with vehicle</td>\n",
       "      <td>...</td>\n",
       "      <td>Metropolitan Excluding CBD</td>\n",
       "      <td>BOROONDARA</td>\n",
       "      <td>METROPOLITAN SOUTH EAST REGION</td>\n",
       "      <td>NaN</td>\n",
       "      <td>NaN</td>\n",
       "      <td>Arterial Other</td>\n",
       "      <td>Arterial Other</td>\n",
       "      <td>Undivided</td>\n",
       "      <td>Undivided</td>\n",
       "      <td>Metro</td>\n",
       "    </tr>\n",
       "    <tr>\n",
       "      <th>1</th>\n",
       "      <td>144.991172</td>\n",
       "      <td>-37.883157</td>\n",
       "      <td>2693453</td>\n",
       "      <td>T20120013209</td>\n",
       "      <td>ABS to receive accident</td>\n",
       "      <td>Finished</td>\n",
       "      <td>6/6/2012</td>\n",
       "      <td>15.40.00</td>\n",
       "      <td>No</td>\n",
       "      <td>Collision with vehicle</td>\n",
       "      <td>...</td>\n",
       "      <td>Metropolitan Excluding CBD</td>\n",
       "      <td>PORT PHILLIP</td>\n",
       "      <td>METROPOLITAN NORTH WEST REGION</td>\n",
       "      <td>NaN</td>\n",
       "      <td>NaN</td>\n",
       "      <td>Arterial Other</td>\n",
       "      <td>Arterial Other,Local Road</td>\n",
       "      <td>Undivided</td>\n",
       "      <td>Undivided</td>\n",
       "      <td>Metro</td>\n",
       "    </tr>\n",
       "    <tr>\n",
       "      <th>2</th>\n",
       "      <td>145.009458</td>\n",
       "      <td>-37.826952</td>\n",
       "      <td>2693454</td>\n",
       "      <td>T20120013212</td>\n",
       "      <td>ABS to receive accident</td>\n",
       "      <td>Finished</td>\n",
       "      <td>24/5/2012</td>\n",
       "      <td>09.00.00</td>\n",
       "      <td>No</td>\n",
       "      <td>Collision with vehicle</td>\n",
       "      <td>...</td>\n",
       "      <td>Metropolitan Excluding CBD</td>\n",
       "      <td>YARRA</td>\n",
       "      <td>METROPOLITAN NORTH WEST REGION</td>\n",
       "      <td>NaN</td>\n",
       "      <td>NaN</td>\n",
       "      <td>Arterial Other</td>\n",
       "      <td>Arterial Other,Local Road</td>\n",
       "      <td>Undivided</td>\n",
       "      <td>Undivided</td>\n",
       "      <td>Metro</td>\n",
       "    </tr>\n",
       "  </tbody>\n",
       "</table>\n",
       "<p>3 rows × 65 columns</p>\n",
       "</div>"
      ],
      "text/plain": [
       "            X          Y  OBJECTID   ACCIDENT_NO                 ABS_CODE  \\\n",
       "0  145.060690 -37.810373   2693452  T20120013207  ABS to receive accident   \n",
       "1  144.991172 -37.883157   2693453  T20120013209  ABS to receive accident   \n",
       "2  145.009458 -37.826952   2693454  T20120013212  ABS to receive accident   \n",
       "\n",
       "  ACCIDENT_STATUS ACCIDENT_DATE ACCIDENT_TIME ALCOHOLTIME  \\\n",
       "0        Finished     26/5/2012      11.40.00          No   \n",
       "1        Finished      6/6/2012      15.40.00          No   \n",
       "2        Finished     24/5/2012      09.00.00          No   \n",
       "\n",
       "            ACCIDENT_TYPE      ...                     DEG_URBAN_ALL  \\\n",
       "0  Collision with vehicle      ...        Metropolitan Excluding CBD   \n",
       "1  Collision with vehicle      ...        Metropolitan Excluding CBD   \n",
       "2  Collision with vehicle      ...        Metropolitan Excluding CBD   \n",
       "\n",
       "   LGA_NAME_ALL                 REGION_NAME_ALL SRNS SRNS_ALL             RMA  \\\n",
       "0    BOROONDARA  METROPOLITAN SOUTH EAST REGION  NaN      NaN  Arterial Other   \n",
       "1  PORT PHILLIP  METROPOLITAN NORTH WEST REGION  NaN      NaN  Arterial Other   \n",
       "2         YARRA  METROPOLITAN NORTH WEST REGION  NaN      NaN  Arterial Other   \n",
       "\n",
       "                     RMA_ALL    DIVIDED DIVIDED_ALL  STAT_DIV_NAME  \n",
       "0             Arterial Other  Undivided   Undivided          Metro  \n",
       "1  Arterial Other,Local Road  Undivided   Undivided          Metro  \n",
       "2  Arterial Other,Local Road  Undivided   Undivided          Metro  \n",
       "\n",
       "[3 rows x 65 columns]"
      ]
     },
     "execution_count": 5,
     "metadata": {},
     "output_type": "execute_result"
    }
   ],
   "source": [
    "df.head(3)"
   ]
  },
  {
   "cell_type": "code",
   "execution_count": 6,
   "metadata": {
    "collapsed": false,
    "scrolled": true
   },
   "outputs": [],
   "source": [
    "#df.ALCOHOLTIME[df.ALCOHOLTIME.isnull]"
   ]
  },
  {
   "cell_type": "code",
   "execution_count": 45,
   "metadata": {
    "collapsed": false
   },
   "outputs": [
    {
     "data": {
      "text/plain": [
       "0"
      ]
     },
     "execution_count": 45,
     "metadata": {},
     "output_type": "execute_result"
    }
   ],
   "source": [
    "df.ALCOHOLTIME[df.ALCOHOLTIME.isnull()].sum()"
   ]
  },
  {
   "cell_type": "code",
   "execution_count": 46,
   "metadata": {
    "collapsed": true
   },
   "outputs": [],
   "source": [
    "#dfv = dfd.a.value_counts().sort_index()\n",
    "#print(\"nan: %d\" % dfv[np.nan].sum())\n",
    "#print(\"1: %d\" % dfv[1].sum())\n",
    "#print(\"3: %d\" % dfv[3].sum())\n",
    "#print(\"total: %d\" % dfv[:].sum())"
   ]
  },
  {
   "cell_type": "code",
   "execution_count": 7,
   "metadata": {
    "collapsed": false
   },
   "outputs": [
    {
     "data": {
      "text/plain": [
       "(76451, 65)"
      ]
     },
     "execution_count": 7,
     "metadata": {},
     "output_type": "execute_result"
    }
   ],
   "source": [
    "df.shape"
   ]
  },
  {
   "cell_type": "code",
   "execution_count": 8,
   "metadata": {
    "collapsed": false
   },
   "outputs": [
    {
     "data": {
      "text/plain": [
       "Index([u'X', u'Y', u'OBJECTID', u'ACCIDENT_NO', u'ABS_CODE',\n",
       "       u'ACCIDENT_STATUS', u'ACCIDENT_DATE', u'ACCIDENT_TIME', u'ALCOHOLTIME',\n",
       "       u'ACCIDENT_TYPE', u'DAY_OF_WEEK', u'DCA_CODE', u'HIT_RUN_FLAG',\n",
       "       u'LIGHT_CONDITION', u'POLICE_ATTEND', u'ROAD_GEOMETRY', u'SEVERITY',\n",
       "       u'SPEED_ZONE', u'RUN_OFFROAD', u'NODE_ID', u'LONGITUDE', u'LATITUDE',\n",
       "       u'NODE_TYPE', u'LGA_NAME', u'REGION_NAME', u'VICGRID_X', u'VICGRID_Y',\n",
       "       u'TOTAL_PERSONS', u'INJ_OR_FATAL', u'FATALITY', u'SERIOUSINJURY',\n",
       "       u'OTHERINJURY', u'NONINJURED', u'MALES', u'FEMALES', u'BICYCLIST',\n",
       "       u'PASSENGER', u'DRIVER', u'PEDESTRIAN', u'PILLION', u'MOTORIST',\n",
       "       u'UNKNOWN', u'PED_CYCLIST_5_12', u'PED_CYCLIST_13_18',\n",
       "       u'OLD_PEDESTRIAN', u'OLD_DRIVER', u'YOUNG_DRIVER', u'ALCOHOL_RELATED',\n",
       "       u'UNLICENCSED', u'NO_OF_VEHICLES', u'HEAVYVEHICLE', u'PASSENGERVEHICLE',\n",
       "       u'MOTORCYCLE', u'PUBLICVEHICLE', u'DEG_URBAN_NAME', u'DEG_URBAN_ALL',\n",
       "       u'LGA_NAME_ALL', u'REGION_NAME_ALL', u'SRNS', u'SRNS_ALL', u'RMA',\n",
       "       u'RMA_ALL', u'DIVIDED', u'DIVIDED_ALL', u'STAT_DIV_NAME'],\n",
       "      dtype='object')"
      ]
     },
     "execution_count": 8,
     "metadata": {},
     "output_type": "execute_result"
    }
   ],
   "source": [
    "df.columns"
   ]
  },
  {
   "cell_type": "code",
   "execution_count": 10,
   "metadata": {
    "collapsed": true
   },
   "outputs": [],
   "source": [
    "df1 = df[[ 'ACCIDENT_DATE','ACCIDENT_TYPE','SPEED_ZONE','LONGITUDE','LATITUDE','INJ_OR_FATAL','NONINJURED','PEDESTRIAN','SEVERITY']]"
   ]
  },
  {
   "cell_type": "code",
   "execution_count": 11,
   "metadata": {
    "collapsed": false
   },
   "outputs": [
    {
     "data": {
      "text/html": [
       "<div>\n",
       "<table border=\"1\" class=\"dataframe\">\n",
       "  <thead>\n",
       "    <tr style=\"text-align: right;\">\n",
       "      <th></th>\n",
       "      <th>ACCIDENT_DATE</th>\n",
       "      <th>ACCIDENT_TYPE</th>\n",
       "      <th>SPEED_ZONE</th>\n",
       "      <th>LONGITUDE</th>\n",
       "      <th>LATITUDE</th>\n",
       "      <th>INJ_OR_FATAL</th>\n",
       "      <th>NONINJURED</th>\n",
       "      <th>PEDESTRIAN</th>\n",
       "      <th>SEVERITY</th>\n",
       "    </tr>\n",
       "  </thead>\n",
       "  <tbody>\n",
       "    <tr>\n",
       "      <th>0</th>\n",
       "      <td>26/5/2012</td>\n",
       "      <td>Collision with vehicle</td>\n",
       "      <td>60 km/hr</td>\n",
       "      <td>145.06069</td>\n",
       "      <td>-37.81037</td>\n",
       "      <td>2</td>\n",
       "      <td>4</td>\n",
       "      <td>0</td>\n",
       "      <td>Other injury accident</td>\n",
       "    </tr>\n",
       "    <tr>\n",
       "      <th>1</th>\n",
       "      <td>6/6/2012</td>\n",
       "      <td>Collision with vehicle</td>\n",
       "      <td>60 km/hr</td>\n",
       "      <td>144.99117</td>\n",
       "      <td>-37.88316</td>\n",
       "      <td>1</td>\n",
       "      <td>1</td>\n",
       "      <td>0</td>\n",
       "      <td>Other injury accident</td>\n",
       "    </tr>\n",
       "    <tr>\n",
       "      <th>2</th>\n",
       "      <td>24/5/2012</td>\n",
       "      <td>Collision with vehicle</td>\n",
       "      <td>40 km/hr</td>\n",
       "      <td>145.00946</td>\n",
       "      <td>-37.82695</td>\n",
       "      <td>1</td>\n",
       "      <td>1</td>\n",
       "      <td>0</td>\n",
       "      <td>Other injury accident</td>\n",
       "    </tr>\n",
       "    <tr>\n",
       "      <th>3</th>\n",
       "      <td>6/6/2012</td>\n",
       "      <td>Struck Pedestrian</td>\n",
       "      <td>50 km/hr</td>\n",
       "      <td>145.13460</td>\n",
       "      <td>-37.84155</td>\n",
       "      <td>1</td>\n",
       "      <td>4</td>\n",
       "      <td>1</td>\n",
       "      <td>Serious injury accident</td>\n",
       "    </tr>\n",
       "    <tr>\n",
       "      <th>4</th>\n",
       "      <td>22/5/2012</td>\n",
       "      <td>Collision with vehicle</td>\n",
       "      <td>80 km/hr</td>\n",
       "      <td>145.29460</td>\n",
       "      <td>-37.88860</td>\n",
       "      <td>1</td>\n",
       "      <td>1</td>\n",
       "      <td>0</td>\n",
       "      <td>Serious injury accident</td>\n",
       "    </tr>\n",
       "  </tbody>\n",
       "</table>\n",
       "</div>"
      ],
      "text/plain": [
       "  ACCIDENT_DATE           ACCIDENT_TYPE SPEED_ZONE  LONGITUDE  LATITUDE  \\\n",
       "0     26/5/2012  Collision with vehicle   60 km/hr  145.06069 -37.81037   \n",
       "1      6/6/2012  Collision with vehicle   60 km/hr  144.99117 -37.88316   \n",
       "2     24/5/2012  Collision with vehicle   40 km/hr  145.00946 -37.82695   \n",
       "3      6/6/2012       Struck Pedestrian   50 km/hr  145.13460 -37.84155   \n",
       "4     22/5/2012  Collision with vehicle   80 km/hr  145.29460 -37.88860   \n",
       "\n",
       "   INJ_OR_FATAL  NONINJURED  PEDESTRIAN                 SEVERITY  \n",
       "0             2           4           0    Other injury accident  \n",
       "1             1           1           0    Other injury accident  \n",
       "2             1           1           0    Other injury accident  \n",
       "3             1           4           1  Serious injury accident  \n",
       "4             1           1           0  Serious injury accident  "
      ]
     },
     "execution_count": 11,
     "metadata": {},
     "output_type": "execute_result"
    }
   ],
   "source": [
    "df1.head()"
   ]
  },
  {
   "cell_type": "code",
   "execution_count": 32,
   "metadata": {
    "collapsed": true
   },
   "outputs": [],
   "source": [
    "df1.columns = ['accident','date','alcohol','type','speed_zone','area','fatality']"
   ]
  },
  {
   "cell_type": "code",
   "execution_count": 12,
   "metadata": {
    "collapsed": false
   },
   "outputs": [],
   "source": [
    "# from memory copy\n",
    "df1 = df1.copy()"
   ]
  },
  {
   "cell_type": "code",
   "execution_count": 34,
   "metadata": {
    "collapsed": false
   },
   "outputs": [],
   "source": [
    "drunk = df1[df1['alcohol'] == 'Yes']"
   ]
  },
  {
   "cell_type": "code",
   "execution_count": null,
   "metadata": {
    "collapsed": false
   },
   "outputs": [],
   "source": []
  },
  {
   "cell_type": "code",
   "execution_count": null,
   "metadata": {
    "collapsed": true
   },
   "outputs": [],
   "source": [
    "drunk = drunk['date']"
   ]
  },
  {
   "cell_type": "code",
   "execution_count": null,
   "metadata": {
    "collapsed": true
   },
   "outputs": [],
   "source": [
    "drunk17 = df1[]"
   ]
  },
  {
   "cell_type": "code",
   "execution_count": 16,
   "metadata": {
    "collapsed": false
   },
   "outputs": [
    {
     "data": {
      "text/html": [
       "<div>\n",
       "<table border=\"1\" class=\"dataframe\">\n",
       "  <thead>\n",
       "    <tr style=\"text-align: right;\">\n",
       "      <th></th>\n",
       "      <th>accident</th>\n",
       "      <th>date</th>\n",
       "      <th>alcohol</th>\n",
       "      <th>type</th>\n",
       "      <th>speed_zone</th>\n",
       "      <th>area</th>\n",
       "      <th>fatality</th>\n",
       "    </tr>\n",
       "  </thead>\n",
       "  <tbody>\n",
       "    <tr>\n",
       "      <th>5</th>\n",
       "      <td>T20120013221</td>\n",
       "      <td>6/6/2012</td>\n",
       "      <td>Yes</td>\n",
       "      <td>Collision with vehicle</td>\n",
       "      <td>70 km/hr</td>\n",
       "      <td>LATROBE</td>\n",
       "      <td>0</td>\n",
       "    </tr>\n",
       "    <tr>\n",
       "      <th>6</th>\n",
       "      <td>T20120013223</td>\n",
       "      <td>6/6/2012</td>\n",
       "      <td>Yes</td>\n",
       "      <td>Struck Pedestrian</td>\n",
       "      <td>70 km/hr</td>\n",
       "      <td>YARRA,DAREBIN</td>\n",
       "      <td>0</td>\n",
       "    </tr>\n",
       "    <tr>\n",
       "      <th>11</th>\n",
       "      <td>T20120013621</td>\n",
       "      <td>11/6/2012</td>\n",
       "      <td>Yes</td>\n",
       "      <td>Collision with vehicle</td>\n",
       "      <td>100 km/hr</td>\n",
       "      <td>MELTON</td>\n",
       "      <td>0</td>\n",
       "    </tr>\n",
       "    <tr>\n",
       "      <th>13</th>\n",
       "      <td>T20120013625</td>\n",
       "      <td>7/1/2012</td>\n",
       "      <td>Yes</td>\n",
       "      <td>Collision with vehicle</td>\n",
       "      <td>60 km/hr</td>\n",
       "      <td>MOUNT ALEXANDER</td>\n",
       "      <td>0</td>\n",
       "    </tr>\n",
       "    <tr>\n",
       "      <th>17</th>\n",
       "      <td>T20120013631</td>\n",
       "      <td>7/6/2012</td>\n",
       "      <td>Yes</td>\n",
       "      <td>Collision with a fixed object</td>\n",
       "      <td>90 km/hr</td>\n",
       "      <td>WYNDHAM</td>\n",
       "      <td>0</td>\n",
       "    </tr>\n",
       "  </tbody>\n",
       "</table>\n",
       "</div>"
      ],
      "text/plain": [
       "        accident       date alcohol                           type speed_zone  \\\n",
       "5   T20120013221   6/6/2012     Yes         Collision with vehicle   70 km/hr   \n",
       "6   T20120013223   6/6/2012     Yes              Struck Pedestrian   70 km/hr   \n",
       "11  T20120013621  11/6/2012     Yes         Collision with vehicle  100 km/hr   \n",
       "13  T20120013625   7/1/2012     Yes         Collision with vehicle   60 km/hr   \n",
       "17  T20120013631   7/6/2012     Yes  Collision with a fixed object   90 km/hr   \n",
       "\n",
       "               area  fatality  \n",
       "5           LATROBE         0  \n",
       "6     YARRA,DAREBIN         0  \n",
       "11           MELTON         0  \n",
       "13  MOUNT ALEXANDER         0  \n",
       "17          WYNDHAM         0  "
      ]
     },
     "execution_count": 16,
     "metadata": {},
     "output_type": "execute_result"
    }
   ],
   "source": [
    "drunk.head()"
   ]
  },
  {
   "cell_type": "code",
   "execution_count": 17,
   "metadata": {
    "collapsed": false
   },
   "outputs": [
    {
     "data": {
      "text/plain": [
       "(28349, 7)"
      ]
     },
     "execution_count": 17,
     "metadata": {},
     "output_type": "execute_result"
    }
   ],
   "source": [
    "drunk.shape"
   ]
  },
  {
   "cell_type": "code",
   "execution_count": 13,
   "metadata": {
    "collapsed": false
   },
   "outputs": [
    {
     "data": {
      "text/plain": [
       "(76451, 9)"
      ]
     },
     "execution_count": 13,
     "metadata": {},
     "output_type": "execute_result"
    }
   ],
   "source": [
    "df1.shape"
   ]
  },
  {
   "cell_type": "markdown",
   "metadata": {},
   "source": [
    "### Rate of Drunk driving\n",
    "### 37% Accident be caused by Drunk"
   ]
  },
  {
   "cell_type": "code",
   "execution_count": 57,
   "metadata": {
    "collapsed": false
   },
   "outputs": [
    {
     "data": {
      "text/plain": [
       "0.3708126774012112"
      ]
     },
     "execution_count": 57,
     "metadata": {},
     "output_type": "execute_result"
    }
   ],
   "source": [
    "28349.0/76451"
   ]
  },
  {
   "cell_type": "markdown",
   "metadata": {},
   "source": [
    "### Rate of fatality & injury\n",
    "### 1.74%  accidents with people dead in accidents\n",
    "### IMPORTANT 2.25% accidents with fatality due to drunk driving"
   ]
  },
  {
   "cell_type": "code",
   "execution_count": 39,
   "metadata": {
    "collapsed": false
   },
   "outputs": [
    {
     "data": {
      "text/plain": [
       "639"
      ]
     },
     "execution_count": 39,
     "metadata": {},
     "output_type": "execute_result"
    }
   ],
   "source": [
    "drunk[drunk['fatality'] > 0]['accident'].count()"
   ]
  },
  {
   "cell_type": "code",
   "execution_count": 40,
   "metadata": {
    "collapsed": false
   },
   "outputs": [
    {
     "data": {
      "text/plain": [
       "28349"
      ]
     },
     "execution_count": 40,
     "metadata": {},
     "output_type": "execute_result"
    }
   ],
   "source": [
    "drunk['accident'].count()"
   ]
  },
  {
   "cell_type": "code",
   "execution_count": 41,
   "metadata": {
    "collapsed": false
   },
   "outputs": [
    {
     "data": {
      "text/plain": [
       "0.02254047761825814"
      ]
     },
     "execution_count": 41,
     "metadata": {},
     "output_type": "execute_result"
    }
   ],
   "source": [
    "639.0/28349.0"
   ]
  },
  {
   "cell_type": "code",
   "execution_count": 42,
   "metadata": {
    "collapsed": false
   },
   "outputs": [],
   "source": [
    "undrunk = df1[df1['alcohol'] == 'No']"
   ]
  },
  {
   "cell_type": "code",
   "execution_count": 43,
   "metadata": {
    "collapsed": false
   },
   "outputs": [
    {
     "data": {
      "text/plain": [
       "692"
      ]
     },
     "execution_count": 43,
     "metadata": {},
     "output_type": "execute_result"
    }
   ],
   "source": [
    "undrunk[undrunk['fatality'] > 0]['accident'].count()"
   ]
  },
  {
   "cell_type": "code",
   "execution_count": 44,
   "metadata": {
    "collapsed": false
   },
   "outputs": [
    {
     "data": {
      "text/plain": [
       "0.024410032099897703"
      ]
     },
     "execution_count": 44,
     "metadata": {},
     "output_type": "execute_result"
    }
   ],
   "source": [
    "692.0/28349.0"
   ]
  },
  {
   "cell_type": "code",
   "execution_count": 58,
   "metadata": {
    "collapsed": false
   },
   "outputs": [
    {
     "data": {
      "text/plain": [
       "639"
      ]
     },
     "execution_count": 58,
     "metadata": {},
     "output_type": "execute_result"
    }
   ],
   "source": [
    "drunk[drunk['fatality'] > 0]['accident'].count()"
   ]
  },
  {
   "cell_type": "code",
   "execution_count": 59,
   "metadata": {
    "collapsed": false
   },
   "outputs": [
    {
     "name": "stdout",
     "output_type": "stream",
     "text": [
      "1331\n",
      "76451\n"
     ]
    }
   ],
   "source": [
    "print df1[df1['fatality']>0]['accident'].count()\n",
    "print df1['accident'].count()"
   ]
  },
  {
   "cell_type": "code",
   "execution_count": 46,
   "metadata": {
    "collapsed": false
   },
   "outputs": [],
   "source": [
    "#df1.head()"
   ]
  },
  {
   "cell_type": "code",
   "execution_count": null,
   "metadata": {
    "collapsed": true
   },
   "outputs": [],
   "source": [
    "#df1['date'] = "
   ]
  },
  {
   "cell_type": "code",
   "execution_count": 61,
   "metadata": {
    "collapsed": false
   },
   "outputs": [
    {
     "data": {
      "text/plain": [
       "1.293103448275862"
      ]
     },
     "execution_count": 61,
     "metadata": {},
     "output_type": "execute_result"
    }
   ],
   "source": [
    "2.25/1.74"
   ]
  },
  {
   "cell_type": "code",
   "execution_count": 21,
   "metadata": {
    "collapsed": true
   },
   "outputs": [],
   "source": [
    "df1.to_csv('Drunkdata.csv')"
   ]
  },
  {
   "cell_type": "code",
   "execution_count": 47,
   "metadata": {
    "collapsed": false
   },
   "outputs": [],
   "source": [
    "#df1.sort_values('area')['area']"
   ]
  },
  {
   "cell_type": "code",
   "execution_count": 2,
   "metadata": {
    "collapsed": false
   },
   "outputs": [
    {
     "name": "stderr",
     "output_type": "stream",
     "text": [
      "/Users/chancey/anaconda/lib/python2.7/site-packages/IPython/core/interactiveshell.py:2717: DtypeWarning: Columns (10,13,16) have mixed types. Specify dtype option on import or set low_memory=False.\n",
      "  interactivity=interactivity, compiler=compiler, result=result)\n"
     ]
    }
   ],
   "source": [
    "person = pd.read_csv(\"PERSON.csv\")"
   ]
  },
  {
   "cell_type": "code",
   "execution_count": 3,
   "metadata": {
    "collapsed": false
   },
   "outputs": [
    {
     "data": {
      "text/html": [
       "<div>\n",
       "<table border=\"1\" class=\"dataframe\">\n",
       "  <thead>\n",
       "    <tr style=\"text-align: right;\">\n",
       "      <th></th>\n",
       "      <th>ACCIDENT_NO</th>\n",
       "      <th>PERSON_ID</th>\n",
       "      <th>VEHICLE_ID</th>\n",
       "      <th>SEX</th>\n",
       "      <th>AGE</th>\n",
       "      <th>Age Group</th>\n",
       "      <th>INJ_LEVEL</th>\n",
       "      <th>Inj Level Desc</th>\n",
       "      <th>SEATING_POSITION</th>\n",
       "      <th>HELMET_BELT_WORN</th>\n",
       "      <th>ROAD_USER_TYPE</th>\n",
       "      <th>Road User Type Desc</th>\n",
       "      <th>LICENCE_STATE</th>\n",
       "      <th>PEDEST_MOVEMENT</th>\n",
       "      <th>POSTCODE</th>\n",
       "      <th>TAKEN_HOSPITAL</th>\n",
       "      <th>EJECTED_CODE</th>\n",
       "    </tr>\n",
       "  </thead>\n",
       "  <tbody>\n",
       "    <tr>\n",
       "      <th>0</th>\n",
       "      <td>T20060000010</td>\n",
       "      <td>01</td>\n",
       "      <td>A</td>\n",
       "      <td>F</td>\n",
       "      <td>NaN</td>\n",
       "      <td>unknown</td>\n",
       "      <td>4</td>\n",
       "      <td>Not injured</td>\n",
       "      <td>LF</td>\n",
       "      <td>1</td>\n",
       "      <td>3</td>\n",
       "      <td>Passengers</td>\n",
       "      <td></td>\n",
       "      <td>0</td>\n",
       "      <td>3130.0</td>\n",
       "      <td></td>\n",
       "      <td>0</td>\n",
       "    </tr>\n",
       "    <tr>\n",
       "      <th>1</th>\n",
       "      <td>T20060000010</td>\n",
       "      <td>02</td>\n",
       "      <td>C</td>\n",
       "      <td>M</td>\n",
       "      <td>43.0</td>\n",
       "      <td>40-49</td>\n",
       "      <td>4</td>\n",
       "      <td>Not injured</td>\n",
       "      <td>LF</td>\n",
       "      <td>1</td>\n",
       "      <td>3</td>\n",
       "      <td>Passengers</td>\n",
       "      <td></td>\n",
       "      <td>0</td>\n",
       "      <td>7310.0</td>\n",
       "      <td></td>\n",
       "      <td>0</td>\n",
       "    </tr>\n",
       "    <tr>\n",
       "      <th>2</th>\n",
       "      <td>T20060000010</td>\n",
       "      <td>03</td>\n",
       "      <td>C</td>\n",
       "      <td>M</td>\n",
       "      <td>22.0</td>\n",
       "      <td>22-25</td>\n",
       "      <td>4</td>\n",
       "      <td>Not injured</td>\n",
       "      <td>LR</td>\n",
       "      <td>1</td>\n",
       "      <td>3</td>\n",
       "      <td>Passengers</td>\n",
       "      <td></td>\n",
       "      <td>0</td>\n",
       "      <td>7310.0</td>\n",
       "      <td></td>\n",
       "      <td>0</td>\n",
       "    </tr>\n",
       "    <tr>\n",
       "      <th>3</th>\n",
       "      <td>T20060000010</td>\n",
       "      <td>A</td>\n",
       "      <td>A</td>\n",
       "      <td>M</td>\n",
       "      <td>72.0</td>\n",
       "      <td>70+</td>\n",
       "      <td>4</td>\n",
       "      <td>Not injured</td>\n",
       "      <td>D</td>\n",
       "      <td>1</td>\n",
       "      <td>2</td>\n",
       "      <td>Drivers</td>\n",
       "      <td>V</td>\n",
       "      <td>0</td>\n",
       "      <td>3130.0</td>\n",
       "      <td></td>\n",
       "      <td>0</td>\n",
       "    </tr>\n",
       "    <tr>\n",
       "      <th>4</th>\n",
       "      <td>T20060000010</td>\n",
       "      <td>B</td>\n",
       "      <td>B</td>\n",
       "      <td>F</td>\n",
       "      <td>62.0</td>\n",
       "      <td>60-64</td>\n",
       "      <td>3</td>\n",
       "      <td>Other injury</td>\n",
       "      <td>D</td>\n",
       "      <td>1</td>\n",
       "      <td>2</td>\n",
       "      <td>Drivers</td>\n",
       "      <td>V</td>\n",
       "      <td>0</td>\n",
       "      <td>NaN</td>\n",
       "      <td>N</td>\n",
       "      <td>0</td>\n",
       "    </tr>\n",
       "  </tbody>\n",
       "</table>\n",
       "</div>"
      ],
      "text/plain": [
       "    ACCIDENT_NO PERSON_ID VEHICLE_ID SEX   AGE Age Group  INJ_LEVEL  \\\n",
       "0  T20060000010        01          A   F   NaN   unknown          4   \n",
       "1  T20060000010        02          C   M  43.0     40-49          4   \n",
       "2  T20060000010        03          C   M  22.0     22-25          4   \n",
       "3  T20060000010        A           A   M  72.0       70+          4   \n",
       "4  T20060000010        B           B   F  62.0     60-64          3   \n",
       "\n",
       "  Inj Level Desc SEATING_POSITION  HELMET_BELT_WORN ROAD_USER_TYPE  \\\n",
       "0    Not injured               LF                 1              3   \n",
       "1    Not injured               LF                 1              3   \n",
       "2    Not injured               LR                 1              3   \n",
       "3    Not injured               D                  1              2   \n",
       "4   Other injury               D                  1              2   \n",
       "\n",
       "  Road User Type Desc LICENCE_STATE PEDEST_MOVEMENT  POSTCODE TAKEN_HOSPITAL  \\\n",
       "0          Passengers                             0    3130.0                  \n",
       "1          Passengers                             0    7310.0                  \n",
       "2          Passengers                             0    7310.0                  \n",
       "3             Drivers             V               0    3130.0                  \n",
       "4             Drivers             V               0       NaN              N   \n",
       "\n",
       "  EJECTED_CODE  \n",
       "0            0  \n",
       "1            0  \n",
       "2            0  \n",
       "3            0  \n",
       "4            0  "
      ]
     },
     "execution_count": 3,
     "metadata": {},
     "output_type": "execute_result"
    }
   ],
   "source": [
    "person.head()"
   ]
  },
  {
   "cell_type": "code",
   "execution_count": 20,
   "metadata": {
    "collapsed": true
   },
   "outputs": [],
   "source": [
    "import re\n",
    "from math import sin, cos, sqrt, atan2, radians"
   ]
  },
  {
   "cell_type": "code",
   "execution_count": 74,
   "metadata": {
    "collapsed": false
   },
   "outputs": [
    {
     "data": {
      "text/plain": [
       "145.06068999999999"
      ]
     },
     "execution_count": 74,
     "metadata": {},
     "output_type": "execute_result"
    }
   ],
   "source": [
    "df[\"LONGITUDE\"][0]"
   ]
  },
  {
   "cell_type": "code",
   "execution_count": 23,
   "metadata": {
    "collapsed": false
   },
   "outputs": [
    {
     "data": {
      "text/plain": [
       "145.06068999999999"
      ]
     },
     "execution_count": 23,
     "metadata": {},
     "output_type": "execute_result"
    }
   ],
   "source": [
    "for i in range()"
   ]
  },
  {
   "cell_type": "code",
   "execution_count": 25,
   "metadata": {
    "collapsed": false
   },
   "outputs": [
    {
     "data": {
      "text/plain": [
       "76451"
      ]
     },
     "execution_count": 25,
     "metadata": {},
     "output_type": "execute_result"
    }
   ],
   "source": [
    "len(df)"
   ]
  },
  {
   "cell_type": "code",
   "execution_count": null,
   "metadata": {
    "collapsed": true
   },
   "outputs": [],
   "source": [
    "for i in range(len(df)):\n",
    "    (df[\"LONGITUDE\"][i]**2  + df[\"LATITUDE\"][i]**2)**(1/2)"
   ]
  },
  {
   "cell_type": "code",
   "execution_count": 47,
   "metadata": {
    "collapsed": false
   },
   "outputs": [],
   "source": [
    "#df[\"LONGITUDE\"][1]**2"
   ]
  },
  {
   "cell_type": "code",
   "execution_count": 38,
   "metadata": {
    "collapsed": false
   },
   "outputs": [
    {
     "data": {
      "text/plain": [
       "149.90739762537737"
      ]
     },
     "execution_count": 38,
     "metadata": {},
     "output_type": "execute_result"
    }
   ],
   "source": [
    "(df[\"LONGITUDE\"][0]**2 + df[\"LATITUDE\"][0]**2)**(1/2.0)"
   ]
  },
  {
   "cell_type": "markdown",
   "metadata": {},
   "source": [
    "### Deakin POI"
   ]
  },
  {
   "cell_type": "code",
   "execution_count": 23,
   "metadata": {
    "collapsed": true
   },
   "outputs": [],
   "source": [
    "df1[\"around\"]= \"null\""
   ]
  },
  {
   "cell_type": "code",
   "execution_count": 24,
   "metadata": {
    "collapsed": false
   },
   "outputs": [
    {
     "name": "stderr",
     "output_type": "stream",
     "text": [
      "/Users/chancey/anaconda/lib/python2.7/site-packages/ipykernel/__main__.py:15: SettingWithCopyWarning: \n",
      "A value is trying to be set on a copy of a slice from a DataFrame\n",
      "\n",
      "See the caveats in the documentation: http://pandas.pydata.org/pandas-docs/stable/indexing.html#indexing-view-versus-copy\n"
     ]
    }
   ],
   "source": [
    "R = 6373.0\n",
    "lat2 = radians(-37.84606263)\n",
    "lon2 = radians(145.1159927)\n",
    "for i in range(len(df1)):\n",
    "    lat1 = radians(df1[\"LATITUDE\"][i])\n",
    "    lon1 = radians(df1[\"LONGITUDE\"][i])\n",
    "    dlon = lon2 - lon1\n",
    "    dlat = lat2 - lat1\n",
    "\n",
    "    a = sin(dlat / 2)**2 + cos(lat1) * cos(lat2) * sin(dlon / 2)**2\n",
    "    c = 2 * atan2(sqrt(a), sqrt(1 - a))\n",
    "\n",
    "    distance = R * c\n",
    "    if (distance < 3.5):\n",
    "        df1[\"around\"][i] = \"Deakin\"\n",
    "    #print(\"Result:\", distance)\n",
    "    #print(\"Should be:\", 278.546, \"km\")"
   ]
  },
  {
   "cell_type": "code",
   "execution_count": 25,
   "metadata": {
    "collapsed": false
   },
   "outputs": [],
   "source": [
    "#df[\"around\"]=\"monash\""
   ]
  },
  {
   "cell_type": "code",
   "execution_count": 34,
   "metadata": {
    "collapsed": true
   },
   "outputs": [],
   "source": [
    "#df.to_csv('campus.csv')"
   ]
  },
  {
   "cell_type": "code",
   "execution_count": 27,
   "metadata": {
    "collapsed": false
   },
   "outputs": [],
   "source": [
    "#len(df[df[\"around\"]==\"monash\"])"
   ]
  },
  {
   "cell_type": "markdown",
   "metadata": {},
   "source": [
    "### Federation Uni POI"
   ]
  },
  {
   "cell_type": "code",
   "execution_count": 28,
   "metadata": {
    "collapsed": true
   },
   "outputs": [],
   "source": [
    "#-37.7963689\n",
    "#144.9611738"
   ]
  },
  {
   "cell_type": "code",
   "execution_count": 29,
   "metadata": {
    "collapsed": false
   },
   "outputs": [
    {
     "name": "stderr",
     "output_type": "stream",
     "text": [
      "/Users/chancey/anaconda/lib/python2.7/site-packages/ipykernel/__main__.py:15: SettingWithCopyWarning: \n",
      "A value is trying to be set on a copy of a slice from a DataFrame\n",
      "\n",
      "See the caveats in the documentation: http://pandas.pydata.org/pandas-docs/stable/indexing.html#indexing-view-versus-copy\n"
     ]
    }
   ],
   "source": [
    "R = 6373.0\n",
    "lat2 = radians(-37.5612738)\n",
    "lon2 = radians(143.858911)\n",
    "for i in range(len(df1)):\n",
    "    lat1 = radians(df1[\"LATITUDE\"][i])\n",
    "    lon1 = radians(df1[\"LONGITUDE\"][i])\n",
    "    dlon = lon2 - lon1\n",
    "    dlat = lat2 - lat1\n",
    "\n",
    "    a = sin(dlat / 2)**2 + cos(lat1) * cos(lat2) * sin(dlon / 2)**2\n",
    "    c = 2 * atan2(sqrt(a), sqrt(1 - a))\n",
    "\n",
    "    distance = R * c\n",
    "    if (distance < 3.5):\n",
    "        df1[\"around\"][i] = \"Federation Uni\"\n",
    "    #print(\"Result:\", distance)\n",
    "    #print(\"Should be:\", 278.546, \"km\")"
   ]
  },
  {
   "cell_type": "code",
   "execution_count": 30,
   "metadata": {
    "collapsed": false
   },
   "outputs": [],
   "source": [
    "#len(df[df[\"around\"]==\"Melbourne Uni\"])"
   ]
  },
  {
   "cell_type": "markdown",
   "metadata": {
    "collapsed": true
   },
   "source": [
    "### La Trobe Uni POI"
   ]
  },
  {
   "cell_type": "code",
   "execution_count": 31,
   "metadata": {
    "collapsed": false
   },
   "outputs": [
    {
     "name": "stderr",
     "output_type": "stream",
     "text": [
      "/Users/chancey/anaconda/lib/python2.7/site-packages/ipykernel/__main__.py:15: SettingWithCopyWarning: \n",
      "A value is trying to be set on a copy of a slice from a DataFrame\n",
      "\n",
      "See the caveats in the documentation: http://pandas.pydata.org/pandas-docs/stable/indexing.html#indexing-view-versus-copy\n"
     ]
    }
   ],
   "source": [
    "R = 6373.0\n",
    "lat2 = radians(-37.7206671)\n",
    "lon2 = radians(145.048414)\n",
    "for i in range(len(df1)):\n",
    "    lat1 = radians(df1[\"LATITUDE\"][i])\n",
    "    lon1 = radians(df1[\"LONGITUDE\"][i])\n",
    "    dlon = lon2 - lon1\n",
    "    dlat = lat2 - lat1\n",
    "\n",
    "    a = sin(dlat / 2)**2 + cos(lat1) * cos(lat2) * sin(dlon / 2)**2\n",
    "    c = 2 * atan2(sqrt(a), sqrt(1 - a))\n",
    "\n",
    "    distance = R * c\n",
    "    if (distance < 3.5):\n",
    "        df1[\"around\"][i] = \"La Trobe\"\n",
    "    #print(\"Result:\", distance)\n",
    "    #print(\"Should be:\", 278.546, \"km\")"
   ]
  },
  {
   "cell_type": "markdown",
   "metadata": {
    "collapsed": true
   },
   "source": [
    "### Monash Uni POI"
   ]
  },
  {
   "cell_type": "code",
   "execution_count": 36,
   "metadata": {
    "collapsed": false
   },
   "outputs": [
    {
     "name": "stderr",
     "output_type": "stream",
     "text": [
      "/Users/chancey/anaconda/lib/python2.7/site-packages/ipykernel/__main__.py:15: SettingWithCopyWarning: \n",
      "A value is trying to be set on a copy of a slice from a DataFrame\n",
      "\n",
      "See the caveats in the documentation: http://pandas.pydata.org/pandas-docs/stable/indexing.html#indexing-view-versus-copy\n"
     ]
    }
   ],
   "source": [
    "R = 6373.0\n",
    "lat2 = radians(-37.9105238)\n",
    "lon2 = radians(145.1362182)\n",
    "for i in range(len(df1)):\n",
    "    lat1 = radians(df1[\"LATITUDE\"][i])\n",
    "    lon1 = radians(df1[\"LONGITUDE\"][i])\n",
    "    dlon = lon2 - lon1\n",
    "    dlat = lat2 - lat1\n",
    "\n",
    "    a = sin(dlat / 2)**2 + cos(lat1) * cos(lat2) * sin(dlon / 2)**2\n",
    "    c = 2 * atan2(sqrt(a), sqrt(1 - a))\n",
    "\n",
    "    distance = R * c\n",
    "    if (distance < 3.5):\n",
    "        df1[\"around\"][i] = \"Monash\"\n",
    "    #print(\"Result:\", distance)\n",
    "    #print(\"Should be:\", 278.546, \"km\")"
   ]
  },
  {
   "cell_type": "markdown",
   "metadata": {},
   "source": [
    "### Melbourne Uni POI"
   ]
  },
  {
   "cell_type": "code",
   "execution_count": 37,
   "metadata": {
    "collapsed": false
   },
   "outputs": [
    {
     "name": "stderr",
     "output_type": "stream",
     "text": [
      "/Users/chancey/anaconda/lib/python2.7/site-packages/ipykernel/__main__.py:15: SettingWithCopyWarning: \n",
      "A value is trying to be set on a copy of a slice from a DataFrame\n",
      "\n",
      "See the caveats in the documentation: http://pandas.pydata.org/pandas-docs/stable/indexing.html#indexing-view-versus-copy\n"
     ]
    }
   ],
   "source": [
    "R = 6373.0\n",
    "lat2 = radians(-37.7963689)\n",
    "lon2 = radians(144.9611738)\n",
    "for i in range(len(df1)):\n",
    "    lat1 = radians(df1[\"LATITUDE\"][i])\n",
    "    lon1 = radians(df1[\"LONGITUDE\"][i])\n",
    "    dlon = lon2 - lon1\n",
    "    dlat = lat2 - lat1\n",
    "\n",
    "    a = sin(dlat / 2)**2 + cos(lat1) * cos(lat2) * sin(dlon / 2)**2\n",
    "    c = 2 * atan2(sqrt(a), sqrt(1 - a))\n",
    "\n",
    "    distance = R * c\n",
    "    if (distance < 3.5):\n",
    "        df1[\"around\"][i] = \"Melbourne\"\n",
    "    #print(\"Result:\", distance)\n",
    "    #print(\"Should be:\", 278.546, \"km\")"
   ]
  },
  {
   "cell_type": "code",
   "execution_count": 38,
   "metadata": {
    "collapsed": true
   },
   "outputs": [],
   "source": [
    "df1.to_csv('campus.csv')"
   ]
  },
  {
   "cell_type": "code",
   "execution_count": null,
   "metadata": {
    "collapsed": true
   },
   "outputs": [],
   "source": []
  }
 ],
 "metadata": {
  "kernelspec": {
   "display_name": "Python 2",
   "language": "python",
   "name": "python2"
  },
  "language_info": {
   "codemirror_mode": {
    "name": "ipython",
    "version": 2
   },
   "file_extension": ".py",
   "mimetype": "text/x-python",
   "name": "python",
   "nbconvert_exporter": "python",
   "pygments_lexer": "ipython2",
   "version": "2.7.13"
  }
 },
 "nbformat": 4,
 "nbformat_minor": 2
}
